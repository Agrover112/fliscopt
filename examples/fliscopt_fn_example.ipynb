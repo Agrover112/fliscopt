{
  "nbformat": 4,
  "nbformat_minor": 0,
  "metadata": {
    "colab": {
      "name": "fliscopt-fn-example.ipynb",
      "provenance": [],
      "collapsed_sections": []
    },
    "kernelspec": {
      "name": "python3",
      "display_name": "Python 3"
    },
    "language_info": {
      "name": "python"
    }
  },
  "cells": [
    {
      "cell_type": "code",
      "metadata": {
        "colab": {
          "base_uri": "https://localhost:8080/"
        },
        "id": "n6UCLEPOXKSD",
        "outputId": "e355ca9e-8f84-416e-b548-10b147d7e80c"
      },
      "source": [
        "!pip install fliscopt==0.1.5"
      ],
      "execution_count": 1,
      "outputs": [
        {
          "output_type": "stream",
          "name": "stdout",
          "text": [
            "Collecting fliscopt==0.1.5\n",
            "  Downloading fliscopt-0.1.5-py3-none-any.whl (18 kB)\n",
            "Requirement already satisfied: matplotlib in /usr/local/lib/python3.7/dist-packages (from fliscopt==0.1.5) (3.2.2)\n",
            "Collecting rich\n",
            "  Downloading rich-10.11.0-py3-none-any.whl (211 kB)\n",
            "\u001b[K     |████████████████████████████████| 211 kB 6.9 MB/s \n",
            "\u001b[?25hRequirement already satisfied: cycler>=0.10 in /usr/local/lib/python3.7/dist-packages (from matplotlib->fliscopt==0.1.5) (0.10.0)\n",
            "Requirement already satisfied: numpy>=1.11 in /usr/local/lib/python3.7/dist-packages (from matplotlib->fliscopt==0.1.5) (1.19.5)\n",
            "Requirement already satisfied: kiwisolver>=1.0.1 in /usr/local/lib/python3.7/dist-packages (from matplotlib->fliscopt==0.1.5) (1.3.2)\n",
            "Requirement already satisfied: python-dateutil>=2.1 in /usr/local/lib/python3.7/dist-packages (from matplotlib->fliscopt==0.1.5) (2.8.2)\n",
            "Requirement already satisfied: pyparsing!=2.0.4,!=2.1.2,!=2.1.6,>=2.0.1 in /usr/local/lib/python3.7/dist-packages (from matplotlib->fliscopt==0.1.5) (2.4.7)\n",
            "Requirement already satisfied: six in /usr/local/lib/python3.7/dist-packages (from cycler>=0.10->matplotlib->fliscopt==0.1.5) (1.15.0)\n",
            "Requirement already satisfied: typing-extensions<4.0.0,>=3.7.4 in /usr/local/lib/python3.7/dist-packages (from rich->fliscopt==0.1.5) (3.7.4.3)\n",
            "Collecting commonmark<0.10.0,>=0.9.0\n",
            "  Downloading commonmark-0.9.1-py2.py3-none-any.whl (51 kB)\n",
            "\u001b[K     |████████████████████████████████| 51 kB 6.8 MB/s \n",
            "\u001b[?25hRequirement already satisfied: pygments<3.0.0,>=2.6.0 in /usr/local/lib/python3.7/dist-packages (from rich->fliscopt==0.1.5) (2.6.1)\n",
            "Collecting colorama<0.5.0,>=0.4.0\n",
            "  Downloading colorama-0.4.4-py2.py3-none-any.whl (16 kB)\n",
            "Installing collected packages: commonmark, colorama, rich, fliscopt\n",
            "Successfully installed colorama-0.4.4 commonmark-0.9.1 fliscopt-0.1.5 rich-10.11.0\n"
          ]
        }
      ]
    },
    {
      "cell_type": "code",
      "metadata": {
        "id": "uhTV3wxB3OBn"
      },
      "source": [
        "import matplotlib\n",
        "matplotlib.use('TKAgg')"
      ],
      "execution_count": 3,
      "outputs": []
    },
    {
      "cell_type": "markdown",
      "metadata": {
        "id": "amQRjF0M5wA1"
      },
      "source": [
        "Let's first implement our Cost/Objective function.\n",
        "\n",
        "In this case we chose ReLU and Leaky ReLU as examples of cost functions."
      ]
    },
    {
      "cell_type": "markdown",
      "metadata": {
        "id": "H9_Yyj1YJ-AF"
      },
      "source": [
        "NOTE: You need to follow this format, \n",
        "\n",
        "```\n",
        "def fn(x): \n",
        "  return x[0]*40+x[2]\n",
        "```\n",
        "similar to Scipy format. Using this format any arbitrary function or problem can be defined\n"
      ]
    },
    {
      "cell_type": "code",
      "metadata": {
        "id": "-nLcd5JaaQPL"
      },
      "source": [
        "def fn(x):\n",
        "  return x[0]*2+max(x[1],0)-21+x[2]**3"
      ],
      "execution_count": 4,
      "outputs": []
    },
    {
      "cell_type": "code",
      "metadata": {
        "colab": {
          "base_uri": "https://localhost:8080/"
        },
        "id": "avnvRQSdabEs",
        "outputId": "243e3c35-afe4-4fa6-cfc8-70350403cee7"
      },
      "source": [
        "fn([1,2,3])"
      ],
      "execution_count": 5,
      "outputs": [
        {
          "output_type": "execute_result",
          "data": {
            "text/plain": [
              "10"
            ]
          },
          "metadata": {},
          "execution_count": 5
        }
      ]
    },
    {
      "cell_type": "markdown",
      "metadata": {
        "id": "0tiWLquw6Ik9"
      },
      "source": [
        "#NOTE: You might need to download and read flights.txt since that is the default problem before doing any steps [Download](https://drive.google.com/file/d/1-wxzUMLloeF1tGYEVHvBG_Dh6jfZ-pzR/view?usp=sharing)"
      ]
    },
    {
      "cell_type": "markdown",
      "metadata": {
        "id": "yUzb0kLX79ER"
      },
      "source": [
        " You need to create a data directory outside your current directory(content/ in Collab) and move flights.txt to that folde.This is a convention followed by fliscopt.\n",
        "The uploaded file will be present in content/\n",
        "\n",
        "Upload flights.txt\n",
        "\n",
        "```\n",
        "cd ../; mkdir data/ (this is data dir above content/)\n",
        "```\n",
        "then\n",
        "\n",
        "\n",
        "```\n",
        "mv content/flights.txt ../data/flights.txt\n",
        "```\n",
        "\n",
        "\n"
      ]
    },
    {
      "cell_type": "code",
      "metadata": {
        "id": "8Q3-l2Um7PWT"
      },
      "source": [
        "!cd ../;mkdir data/"
      ],
      "execution_count": 6,
      "outputs": []
    },
    {
      "cell_type": "code",
      "metadata": {
        "id": "ebfUVLDR7fIR"
      },
      "source": [
        "!mv /content/flights.txt ../data/flights.txt"
      ],
      "execution_count": 7,
      "outputs": []
    },
    {
      "cell_type": "code",
      "metadata": {
        "id": "1kNrA0_Q685v"
      },
      "source": [
        "#!mkdir data; mv flights.txt data/flights.txt"
      ],
      "execution_count": 8,
      "outputs": []
    },
    {
      "cell_type": "code",
      "metadata": {
        "colab": {
          "base_uri": "https://localhost:8080/",
          "height": 35
        },
        "id": "xPUebLKY6EER",
        "outputId": "1d408981-68cf-4db0-aa21-2b70fceb03db"
      },
      "source": [
        "from fliscopt.utils.util import read_file, plot_scores\n",
        "from fliscopt.fitness import domain,griewank,fitness_function\n",
        "from fliscopt.ga import ReverseGA,GAReversals,GA\n",
        "read_file('flights.txt')"
      ],
      "execution_count": 9,
      "outputs": [
        {
          "output_type": "execute_result",
          "data": {
            "application/vnd.google.colaboratory.intrinsic+json": {
              "type": "string"
            },
            "text/plain": [
              "'------File Read-----'"
            ]
          },
          "metadata": {},
          "execution_count": 9
        }
      ]
    },
    {
      "cell_type": "markdown",
      "metadata": {
        "id": "UlRGYPp1-AR4"
      },
      "source": [
        "# Simple Genetic Algorithm"
      ]
    },
    {
      "cell_type": "code",
      "metadata": {
        "colab": {
          "base_uri": "https://localhost:8080/",
          "height": 290
        },
        "id": "YdXIpP9t-C2Y",
        "outputId": "a470f1db-d759-48b6-a940-a4f32752461f"
      },
      "source": [
        "ga=GA(seed_init=False)\n",
        "soln, cost, scores, nfe, seed=ga.run(domain=domain['griewank']*3,fitness_function=fn,seed=5)\n",
        "plot_scores(scores,ga.get_name(),fname='relu',save_fig=False)"
      ],
      "execution_count": 10,
      "outputs": [
        {
          "output_type": "display_data",
          "data": {
            "image/png": "[encoded data removed]",
            "text/plain": [
              "<Figure size 432x288 with 1 Axes>"
            ]
          },
          "metadata": {
            "needs_background": "light"
          }
        }
      ]
    },
    {
      "cell_type": "code",
      "metadata": {
        "colab": {
          "base_uri": "https://localhost:8080/"
        },
        "id": "9iVpQfUh-Dfm",
        "outputId": "635f4095-7b98-4ee1-f719-71dcba1b5f3a"
      },
      "source": [
        "print(cost)"
      ],
      "execution_count": 11,
      "outputs": [
        {
          "output_type": "stream",
          "name": "stdout",
          "text": [
            "-216001221\n"
          ]
        }
      ]
    },
    {
      "cell_type": "markdown",
      "metadata": {
        "id": "sGbbFn6U810E"
      },
      "source": [
        "# Genetic Algorithm with Reverse Operations"
      ]
    },
    {
      "cell_type": "code",
      "metadata": {
        "colab": {
          "base_uri": "https://localhost:8080/",
          "height": 279
        },
        "id": "180hh8bK62sB",
        "outputId": "caef08ac-9a6e-4b74-94ef-824a96be7d71"
      },
      "source": [
        "rga=ReverseGA(seed_init=False)\n",
        "soln, cost, scores, nfe, seed=rga.run(domain=domain['domain'],fitness_function=fitness_function,seed=5)\n",
        "plot_scores(scores,rga.get_name(),fname='relu',save_fig=False)"
      ],
      "execution_count": 12,
      "outputs": [
        {
          "output_type": "display_data",
          "data": {
            "image/png": "[encoded data removed]",
            "text/plain": [
              "<Figure size 432x288 with 1 Axes>"
            ]
          },
          "metadata": {
            "needs_background": "light"
          }
        }
      ]
    },
    {
      "cell_type": "code",
      "metadata": {
        "colab": {
          "base_uri": "https://localhost:8080/"
        },
        "id": "eq-6-c7o9wnT",
        "outputId": "e07e8569-b809-4df3-f092-f2b08ba6bbaa"
      },
      "source": [
        "print(cost)"
      ],
      "execution_count": 13,
      "outputs": [
        {
          "output_type": "stream",
          "name": "stdout",
          "text": [
            "2356\n"
          ]
        }
      ]
    },
    {
      "cell_type": "markdown",
      "metadata": {
        "id": "VLznfREv85Bs"
      },
      "source": [
        "# Genetic Algorithm with Reversals(reverse steps)\n",
        "\n",
        "**n_k **parameter in conjucton with **number_generations** is used to calcuate number of reversals.\n",
        "\n",
        "So, for **500** generations and **125** n_k we should get:\n",
        " \n",
        "500/125 -1(first iteration)=3 reversal steps"
      ]
    },
    {
      "cell_type": "code",
      "metadata": {
        "colab": {
          "base_uri": "https://localhost:8080/",
          "height": 297
        },
        "id": "Wn1UlU528vFd",
        "outputId": "cec858b9-5704-4ffd-8027-98916889e917"
      },
      "source": [
        "rga=GAReversals(seed_init=False,n_k=125)\n",
        "soln, cost, scores, nfe, seed=rga.run(domain=domain['domain'],fitness_function=fitness_function,seed=5)\n",
        "plot_scores(scores,rga.get_name(),fname='relu',save_fig=False)"
      ],
      "execution_count": 14,
      "outputs": [
        {
          "output_type": "stream",
          "name": "stdout",
          "text": [
            "1\n"
          ]
        },
        {
          "output_type": "display_data",
          "data": {
            "image/png": "[encoded data removed]",
            "text/plain": [
              "<Figure size 432x288 with 1 Axes>"
            ]
          },
          "metadata": {
            "needs_background": "light"
          }
        }
      ]
    },
    {
      "cell_type": "code",
      "metadata": {
        "colab": {
          "base_uri": "https://localhost:8080/"
        },
        "id": "PpEg0q5e9LH5",
        "outputId": "5c7e1c3e-4936-46d5-e3fb-63084a52daa6"
      },
      "source": [
        "print(cost)"
      ],
      "execution_count": 15,
      "outputs": [
        {
          "output_type": "stream",
          "name": "stdout",
          "text": [
            "2356\n"
          ]
        }
      ]
    },
    {
      "cell_type": "markdown",
      "metadata": {
        "id": "eNTVDcDe9qgp"
      },
      "source": [
        "It is clear by looking at the objective plot how it reverses for a certain **step_length** which is a controllable parameter as to how many iterations does it reverse(performs maxmization) before returning back to it's original minimization process."
      ]
    },
    {
      "cell_type": "markdown",
      "metadata": {
        "id": "ZLA-_No4KaXZ"
      },
      "source": [
        "# What is the domain?\n",
        "In our case the domain consists of a dictionary with various values for each benchmark function.\n",
        "Those having a single [(x,x)] are n-dimensional,\n",
        "and can be used for d*5.\n",
        "\n",
        "Each tuple indicates the domain of x,y,z variable.\n",
        "We demonstrate how to use a domain of x,y,z below"
      ]
    },
    {
      "cell_type": "code",
      "metadata": {
        "colab": {
          "base_uri": "https://localhost:8080/"
        },
        "id": "-fWyk4kHKe99",
        "outputId": "2dffdd0d-76b5-48ab-fd97-a78d09b55f12"
      },
      "source": [
        "domain"
      ],
      "execution_count": 16,
      "outputs": [
        {
          "output_type": "execute_result",
          "data": {
            "text/plain": [
              "{'ackley_N2': [(-32, 32), (-32, 32)],\n",
              " 'booth': [(-10, 10), (-10, 10)],\n",
              " 'brown': [(-1, 4)],\n",
              " 'domain': [(0, 9),\n",
              "  (0, 9),\n",
              "  (0, 9),\n",
              "  (0, 9),\n",
              "  (0, 9),\n",
              "  (0, 9),\n",
              "  (0, 9),\n",
              "  (0, 9),\n",
              "  (0, 9),\n",
              "  (0, 9),\n",
              "  (0, 9),\n",
              "  (0, 9)],\n",
              " 'griewank': [(-600, 600)],\n",
              " 'matyas': [(-10, 10), (-10, 10)],\n",
              " 'rosenbrock': [(-5, 10)],\n",
              " 'schaffer_N1': [(-100, 100), (-100, 100)],\n",
              " 'schwefel_N2_23': [(-10, 10)],\n",
              " 'sphere': [(-5, 5)],\n",
              " 'three_hump_camel': [(-5, 5), (-5, 5)],\n",
              " 'zakharov': [(-5, 10)]}"
            ]
          },
          "metadata": {},
          "execution_count": 16
        }
      ]
    },
    {
      "cell_type": "code",
      "metadata": {
        "colab": {
          "base_uri": "https://localhost:8080/",
          "height": 314
        },
        "id": "6PDUaAnNKZHw",
        "outputId": "ab926de1-ee62-4c33-bc80-e62b2365e274"
      },
      "source": [
        "rga=GA(seed_init=False)\n",
        "soln, cost, scores, nfe, seed=rga.run(domain=[(-1000,1000)]*10,\n",
        "                                      fitness_function=griewank,seed=5)\n",
        "plot_scores(scores,rga.get_name(),fname='relu',save_fig=False)\n",
        "print(soln)\n",
        "print(cost)"
      ],
      "execution_count": 17,
      "outputs": [
        {
          "output_type": "display_data",
          "data": {
            "image/png": "[encoded data removed]",
            "text/plain": [
              "<Figure size 432x288 with 1 Axes>"
            ]
          },
          "metadata": {
            "needs_background": "light"
          }
        },
        {
          "output_type": "stream",
          "name": "stdout",
          "text": [
            "[-132, -44, -250, -132, 224, 8, 215, -27, 94, -207]\n",
            "62.35411766739374\n"
          ]
        }
      ]
    },
    {
      "cell_type": "markdown",
      "metadata": {
        "id": "T7R-fiYZ-Sza"
      },
      "source": [
        "# Iterated Chaining"
      ]
    },
    {
      "cell_type": "markdown",
      "metadata": {
        "id": "3S8TZhjqAibG"
      },
      "source": [
        "**rounds** indicates number of iterations, n_obs and tol are variables which somewhat control the Early Stopping mechanism implemented."
      ]
    },
    {
      "cell_type": "markdown",
      "metadata": {
        "id": "YSQGYNT3_mrk"
      },
      "source": [
        "Really experimental method, not really recommended, it uses GA operators combined with solution chaining.\n",
        "\n",
        "**algo1=soln1--->algo2=soln2-->algo1=soln1....continue** \n",
        "till rounds\n",
        "\n",
        "OR\n",
        "\n",
        "stop if Early Stopping Conditions are met"
      ]
    },
    {
      "cell_type": "code",
      "metadata": {
        "colab": {
          "base_uri": "https://localhost:8080/",
          "height": 768
        },
        "id": "AAhSR2RS98kS",
        "outputId": "db836c36-ae19-45ed-f39e-f0f08ce329cd"
      },
      "source": [
        "from fliscopt.chaining import IteratedChaining\n",
        "from fliscopt.rs import RandomSearch\n",
        "from fliscopt.hc import HillClimb\n",
        "ic=IteratedChaining(rounds=10, n_obs=2, tol=90,domain=domain['domain'],fitness_function=fitness_function,seed=5)\n",
        "soln, cost, scores, nfe=ic.run('RandomSearch', 'GAReversals')\n",
        "plot_scores(scores,\"Chaining\",fname='relu',save_fig=False)"
      ],
      "execution_count": 18,
      "outputs": [
        {
          "output_type": "display_data",
          "data": {
            "text/html": [
              "<pre style=\"white-space:pre;overflow-x:auto;line-height:normal;font-family:Menlo,'DejaVu Sans Mono',consolas,'Courier New',monospace\">Cost at <span style=\"color: #008080; text-decoration-color: #008080; font-weight: bold\">0</span>==<span style=\"color: #008080; text-decoration-color: #008080; font-weight: bold\">4175</span>\n",
              "</pre>\n"
            ],
            "text/plain": [
              "Cost at \u001b[1;36m0\u001b[0m==\u001b[1;36m4175\u001b[0m\n"
            ]
          },
          "metadata": {}
        },
        {
          "output_type": "stream",
          "name": "stdout",
          "text": [
            "1\n"
          ]
        },
        {
          "output_type": "display_data",
          "data": {
            "text/html": [
              "<pre style=\"white-space:pre;overflow-x:auto;line-height:normal;font-family:Menlo,'DejaVu Sans Mono',consolas,'Courier New',monospace\">Cost at <span style=\"color: #008080; text-decoration-color: #008080; font-weight: bold\">0</span>==<span style=\"color: #008080; text-decoration-color: #008080; font-weight: bold\">2404</span>\n",
              "</pre>\n"
            ],
            "text/plain": [
              "Cost at \u001b[1;36m0\u001b[0m==\u001b[1;36m2404\u001b[0m\n"
            ]
          },
          "metadata": {}
        },
        {
          "output_type": "display_data",
          "data": {
            "text/html": [
              "<pre style=\"white-space:pre;overflow-x:auto;line-height:normal;font-family:Menlo,'DejaVu Sans Mono',consolas,'Courier New',monospace\">Cost at <span style=\"color: #008080; text-decoration-color: #008080; font-weight: bold\">1</span>==<span style=\"color: #008080; text-decoration-color: #008080; font-weight: bold\">4392</span>\n",
              "</pre>\n"
            ],
            "text/plain": [
              "Cost at \u001b[1;36m1\u001b[0m==\u001b[1;36m4392\u001b[0m\n"
            ]
          },
          "metadata": {}
        },
        {
          "output_type": "stream",
          "name": "stdout",
          "text": [
            "1\n"
          ]
        },
        {
          "output_type": "display_data",
          "data": {
            "text/html": [
              "<pre style=\"white-space:pre;overflow-x:auto;line-height:normal;font-family:Menlo,'DejaVu Sans Mono',consolas,'Courier New',monospace\">Cost at <span style=\"color: #008080; text-decoration-color: #008080; font-weight: bold\">1</span>==<span style=\"color: #008080; text-decoration-color: #008080; font-weight: bold\">2404</span>\n",
              "</pre>\n"
            ],
            "text/plain": [
              "Cost at \u001b[1;36m1\u001b[0m==\u001b[1;36m2404\u001b[0m\n"
            ]
          },
          "metadata": {}
        },
        {
          "output_type": "display_data",
          "data": {
            "text/html": [
              "<pre style=\"white-space:pre;overflow-x:auto;line-height:normal;font-family:Menlo,'DejaVu Sans Mono',consolas,'Courier New',monospace\">Cost at <span style=\"color: #008080; text-decoration-color: #008080; font-weight: bold\">2</span>==<span style=\"color: #008080; text-decoration-color: #008080; font-weight: bold\">3897</span>\n",
              "</pre>\n"
            ],
            "text/plain": [
              "Cost at \u001b[1;36m2\u001b[0m==\u001b[1;36m3897\u001b[0m\n"
            ]
          },
          "metadata": {}
        },
        {
          "output_type": "stream",
          "name": "stdout",
          "text": [
            "1\n"
          ]
        },
        {
          "output_type": "display_data",
          "data": {
            "text/html": [
              "<pre style=\"white-space:pre;overflow-x:auto;line-height:normal;font-family:Menlo,'DejaVu Sans Mono',consolas,'Courier New',monospace\">Cost at <span style=\"color: #008080; text-decoration-color: #008080; font-weight: bold\">2</span>==<span style=\"color: #008080; text-decoration-color: #008080; font-weight: bold\">2404</span>\n",
              "</pre>\n"
            ],
            "text/plain": [
              "Cost at \u001b[1;36m2\u001b[0m==\u001b[1;36m2404\u001b[0m\n"
            ]
          },
          "metadata": {}
        },
        {
          "output_type": "display_data",
          "data": {
            "text/html": [
              "<pre style=\"white-space:pre;overflow-x:auto;line-height:normal;font-family:Menlo,'DejaVu Sans Mono',consolas,'Courier New',monospace\">Cost at <span style=\"color: #008080; text-decoration-color: #008080; font-weight: bold\">3</span>==<span style=\"color: #008080; text-decoration-color: #008080; font-weight: bold\">4638</span>\n",
              "</pre>\n"
            ],
            "text/plain": [
              "Cost at \u001b[1;36m3\u001b[0m==\u001b[1;36m4638\u001b[0m\n"
            ]
          },
          "metadata": {}
        },
        {
          "output_type": "stream",
          "name": "stdout",
          "text": [
            "1\n"
          ]
        },
        {
          "output_type": "display_data",
          "data": {
            "text/html": [
              "<pre style=\"white-space:pre;overflow-x:auto;line-height:normal;font-family:Menlo,'DejaVu Sans Mono',consolas,'Courier New',monospace\">Cost at <span style=\"color: #008080; text-decoration-color: #008080; font-weight: bold\">3</span>==<span style=\"color: #008080; text-decoration-color: #008080; font-weight: bold\">2356</span>\n",
              "</pre>\n"
            ],
            "text/plain": [
              "Cost at \u001b[1;36m3\u001b[0m==\u001b[1;36m2356\u001b[0m\n"
            ]
          },
          "metadata": {}
        },
        {
          "output_type": "display_data",
          "data": {
            "text/html": [
              "<pre style=\"white-space:pre;overflow-x:auto;line-height:normal;font-family:Menlo,'DejaVu Sans Mono',consolas,'Courier New',monospace\">Cost at <span style=\"color: #008080; text-decoration-color: #008080; font-weight: bold\">4</span>==<span style=\"color: #008080; text-decoration-color: #008080; font-weight: bold\">4624</span>\n",
              "</pre>\n"
            ],
            "text/plain": [
              "Cost at \u001b[1;36m4\u001b[0m==\u001b[1;36m4624\u001b[0m\n"
            ]
          },
          "metadata": {}
        },
        {
          "output_type": "stream",
          "name": "stdout",
          "text": [
            "1\n"
          ]
        },
        {
          "output_type": "display_data",
          "data": {
            "text/html": [
              "<pre style=\"white-space:pre;overflow-x:auto;line-height:normal;font-family:Menlo,'DejaVu Sans Mono',consolas,'Courier New',monospace\">Cost at <span style=\"color: #008080; text-decoration-color: #008080; font-weight: bold\">4</span>==<span style=\"color: #008080; text-decoration-color: #008080; font-weight: bold\">2875</span>\n",
              "</pre>\n"
            ],
            "text/plain": [
              "Cost at \u001b[1;36m4\u001b[0m==\u001b[1;36m2875\u001b[0m\n"
            ]
          },
          "metadata": {}
        },
        {
          "output_type": "display_data",
          "data": {
            "text/html": [
              "<pre style=\"white-space:pre;overflow-x:auto;line-height:normal;font-family:Menlo,'DejaVu Sans Mono',consolas,'Courier New',monospace\">Cost at <span style=\"color: #008080; text-decoration-color: #008080; font-weight: bold\">5</span>==<span style=\"color: #008080; text-decoration-color: #008080; font-weight: bold\">5112</span>\n",
              "</pre>\n"
            ],
            "text/plain": [
              "Cost at \u001b[1;36m5\u001b[0m==\u001b[1;36m5112\u001b[0m\n"
            ]
          },
          "metadata": {}
        },
        {
          "output_type": "stream",
          "name": "stdout",
          "text": [
            "1\n"
          ]
        },
        {
          "output_type": "display_data",
          "data": {
            "text/html": [
              "<pre style=\"white-space:pre;overflow-x:auto;line-height:normal;font-family:Menlo,'DejaVu Sans Mono',consolas,'Courier New',monospace\">Cost at <span style=\"color: #008080; text-decoration-color: #008080; font-weight: bold\">5</span>==<span style=\"color: #008080; text-decoration-color: #008080; font-weight: bold\">2404</span>\n",
              "</pre>\n"
            ],
            "text/plain": [
              "Cost at \u001b[1;36m5\u001b[0m==\u001b[1;36m2404\u001b[0m\n"
            ]
          },
          "metadata": {}
        },
        {
          "output_type": "display_data",
          "data": {
            "text/html": [
              "<pre style=\"white-space:pre;overflow-x:auto;line-height:normal;font-family:Menlo,'DejaVu Sans Mono',consolas,'Courier New',monospace\">Cost at <span style=\"color: #008080; text-decoration-color: #008080; font-weight: bold\">6</span>==<span style=\"color: #008080; text-decoration-color: #008080; font-weight: bold\">4747</span>\n",
              "</pre>\n"
            ],
            "text/plain": [
              "Cost at \u001b[1;36m6\u001b[0m==\u001b[1;36m4747\u001b[0m\n"
            ]
          },
          "metadata": {}
        },
        {
          "output_type": "stream",
          "name": "stdout",
          "text": [
            "1\n"
          ]
        },
        {
          "output_type": "display_data",
          "data": {
            "text/html": [
              "<pre style=\"white-space:pre;overflow-x:auto;line-height:normal;font-family:Menlo,'DejaVu Sans Mono',consolas,'Courier New',monospace\">Cost at <span style=\"color: #008080; text-decoration-color: #008080; font-weight: bold\">6</span>==<span style=\"color: #008080; text-decoration-color: #008080; font-weight: bold\">2404</span>\n",
              "</pre>\n"
            ],
            "text/plain": [
              "Cost at \u001b[1;36m6\u001b[0m==\u001b[1;36m2404\u001b[0m\n"
            ]
          },
          "metadata": {}
        },
        {
          "output_type": "display_data",
          "data": {
            "text/html": [
              "<pre style=\"white-space:pre;overflow-x:auto;line-height:normal;font-family:Menlo,'DejaVu Sans Mono',consolas,'Courier New',monospace\">Cost at <span style=\"color: #008080; text-decoration-color: #008080; font-weight: bold\">7</span>==<span style=\"color: #008080; text-decoration-color: #008080; font-weight: bold\">4466</span>\n",
              "</pre>\n"
            ],
            "text/plain": [
              "Cost at \u001b[1;36m7\u001b[0m==\u001b[1;36m4466\u001b[0m\n"
            ]
          },
          "metadata": {}
        },
        {
          "output_type": "stream",
          "name": "stdout",
          "text": [
            "1\n"
          ]
        },
        {
          "output_type": "display_data",
          "data": {
            "text/html": [
              "<pre style=\"white-space:pre;overflow-x:auto;line-height:normal;font-family:Menlo,'DejaVu Sans Mono',consolas,'Courier New',monospace\">Cost at <span style=\"color: #008080; text-decoration-color: #008080; font-weight: bold\">7</span>==<span style=\"color: #008080; text-decoration-color: #008080; font-weight: bold\">2404</span>\n",
              "</pre>\n"
            ],
            "text/plain": [
              "Cost at \u001b[1;36m7\u001b[0m==\u001b[1;36m2404\u001b[0m\n"
            ]
          },
          "metadata": {}
        },
        {
          "output_type": "display_data",
          "data": {
            "text/html": [
              "<pre style=\"white-space:pre;overflow-x:auto;line-height:normal;font-family:Menlo,'DejaVu Sans Mono',consolas,'Courier New',monospace\">Cost at <span style=\"color: #008080; text-decoration-color: #008080; font-weight: bold\">8</span>==<span style=\"color: #008080; text-decoration-color: #008080; font-weight: bold\">4518</span>\n",
              "</pre>\n"
            ],
            "text/plain": [
              "Cost at \u001b[1;36m8\u001b[0m==\u001b[1;36m4518\u001b[0m\n"
            ]
          },
          "metadata": {}
        },
        {
          "output_type": "stream",
          "name": "stdout",
          "text": [
            "1\n"
          ]
        },
        {
          "output_type": "display_data",
          "data": {
            "text/html": [
              "<pre style=\"white-space:pre;overflow-x:auto;line-height:normal;font-family:Menlo,'DejaVu Sans Mono',consolas,'Courier New',monospace\">Cost at <span style=\"color: #008080; text-decoration-color: #008080; font-weight: bold\">8</span>==<span style=\"color: #008080; text-decoration-color: #008080; font-weight: bold\">2356</span>\n",
              "</pre>\n"
            ],
            "text/plain": [
              "Cost at \u001b[1;36m8\u001b[0m==\u001b[1;36m2356\u001b[0m\n"
            ]
          },
          "metadata": {}
        },
        {
          "output_type": "stream",
          "name": "stdout",
          "text": [
            "1\n"
          ]
        },
        {
          "output_type": "display_data",
          "data": {
            "text/html": [
              "<pre style=\"white-space:pre;overflow-x:auto;line-height:normal;font-family:Menlo,'DejaVu Sans Mono',consolas,'Courier New',monospace\">Cost at <span style=\"color: #008080; text-decoration-color: #008080; font-weight: bold\">9</span>==<span style=\"color: #008080; text-decoration-color: #008080; font-weight: bold\">2356</span>\n",
              "</pre>\n"
            ],
            "text/plain": [
              "Cost at \u001b[1;36m9\u001b[0m==\u001b[1;36m2356\u001b[0m\n"
            ]
          },
          "metadata": {}
        },
        {
          "output_type": "display_data",
          "data": {
            "image/png": "[encoded data removed]",
            "text/plain": [
              "<Figure size 432x288 with 1 Axes>"
            ]
          },
          "metadata": {
            "needs_background": "light"
          }
        }
      ]
    },
    {
      "cell_type": "code",
      "metadata": {
        "colab": {
          "base_uri": "https://localhost:8080/"
        },
        "id": "e9vGm63V-3X2",
        "outputId": "7bdb955f-2959-484f-c5d4-f9b222b49218"
      },
      "source": [
        "print(cost)"
      ],
      "execution_count": 19,
      "outputs": [
        {
          "output_type": "stream",
          "name": "stdout",
          "text": [
            "2356\n"
          ]
        }
      ]
    },
    {
      "cell_type": "markdown",
      "metadata": {
        "id": "D7O_aycvAYR5"
      },
      "source": [
        "If you notice closely this method can actually give good results(but has really high variance of resutls), since only the initial seed is set not of the local runs(RS and the GA ) which makes it stochastic in nature. Setting the seed of the local runs would result in basically same result and no change would be obtained on running for more than 1 iteration :/"
      ]
    },
    {
      "cell_type": "markdown",
      "metadata": {
        "id": "90IGihYOHPwV"
      },
      "source": [
        "# Multiprocessing!\n",
        "\n",
        "Bored ? Then use multiproc!\n",
        "In this example we use multiproc on LeakyRelu function\n",
        "\n",
        "**NOTE: Version 0.1.2 doesn't support multiproc for Iterated Chaning and may not be working to support it for IC in the future.(we'll see).**"
      ]
    },
    {
      "cell_type": "code",
      "metadata": {
        "colab": {
          "base_uri": "https://localhost:8080/",
          "height": 229
        },
        "id": "wtEWd5lbGaNW",
        "outputId": "6165a6aa-43b1-4c44-d69e-09934b2a887d"
      },
      "source": [
        "from fliscopt.multiproc import multiple_runs\n",
        "multiple_runs(RandomSearch, domain['domain'], fitness_function, record=False, n=10)"
      ],
      "execution_count": 23,
      "outputs": [
        {
          "output_type": "stream",
          "name": "stdout",
          "text": [
            "Total time: 0.42046356201171875\n"
          ]
        },
        {
          "output_type": "display_data",
          "data": {
            "text/html": [
              "<pre style=\"white-space:pre;overflow-x:auto;line-height:normal;font-family:Menlo,'DejaVu Sans Mono',consolas,'Courier New',monospace\"><span style=\"color: #800000; text-decoration-color: #800000; font-weight: bold\">Run_Number</span>      <span style=\"color: #008000; text-decoration-color: #008000; font-weight: bold\">Solution </span>       <span style=\"color: #008000; text-decoration-color: #008000; font-weight: bold\">      </span><span style=\"color: #800080; text-decoration-color: #800080; font-weight: bold\">Cost</span><span style=\"color: #008000; text-decoration-color: #008000; font-weight: bold\">  </span><span style=\"color: #800080; text-decoration-color: #800080; font-weight: bold\">NFE</span><span style=\"color: #008000; text-decoration-color: #008000; font-weight: bold\"> SEED</span>\n",
              "</pre>\n"
            ],
            "text/plain": [
              "\u001b[1;31mRun_Number\u001b[0m      \u001b[1;32mSolution\u001b[0m\u001b[1;32m \u001b[0m       \u001b[1;32m      \u001b[0m\u001b[1;35mCost\u001b[0m\u001b[1;32m  \u001b[0m\u001b[1;35mNFE\u001b[0m\u001b[1;32m SEED\u001b[0m\n"
            ]
          },
          "metadata": {}
        },
        {
          "output_type": "stream",
          "name": "stdout",
          "text": [
            "0 [4, 5, 3, 1, 2, 3, 0, 2, 4, 1, 4, 5] 4429 100 10\n",
            "1 [3, 7, 3, 9, 3, 7, 5, 7, 1, 6, 1, 8] 4329 100 24\n",
            "2 [7, 7, 5, 6, 4, 3, 6, 3, 6, 2, 0, 4] 4715 100 32\n",
            "3 [5, 5, 9, 2, 9, 2, 9, 3, 9, 4, 5, 1] 4844 100 100\n",
            "4 [4, 7, 2, 7, 1, 6, 5, 7, 3, 5, 2, 7] 4013 100 20\n",
            "5 [1, 9, 1, 4, 1, 3, 0, 1, 0, 4, 0, 2] 4632 100 67\n",
            "6 [4, 4, 2, 3, 2, 3, 2, 2, 1, 8, 3, 4] 4509 100 13\n",
            "7 [0, 8, 1, 8, 3, 6, 5, 8, 4, 9, 2, 9] 4870 100 19\n",
            "8 [7, 2, 3, 2, 6, 2, 3, 1, 3, 4, 4, 3] 4604 100 65\n",
            "9 [3, 4, 3, 9, 2, 7, 4, 3, 0, 2, 2, 2] 4624 100 51\n"
          ]
        }
      ]
    },
    {
      "cell_type": "code",
      "metadata": {
        "colab": {
          "base_uri": "https://localhost:8080/"
        },
        "id": "8wc7pEjnH_mj",
        "outputId": "55cecd92-ced3-4644-8673-976fa2ea57df"
      },
      "source": [
        "multiple_runs(ReverseGA, domain['domain'], fitness_function=fn, record=True, n=10)"
      ],
      "execution_count": 21,
      "outputs": [
        {
          "output_type": "stream",
          "name": "stdout",
          "text": [
            "Total time: 2.4437172412872314\n"
          ]
        }
      ]
    },
    {
      "cell_type": "markdown",
      "metadata": {
        "id": "HZSH3AhPJzV3"
      },
      "source": [
        "Results and plots can easily be saved in respective plots/ and results/ folders."
      ]
    },
    {
      "cell_type": "code",
      "metadata": {
        "colab": {
          "base_uri": "https://localhost:8080/"
        },
        "id": "_HitjjAoJlfD",
        "outputId": "5aa57365-09d4-418a-8c69-ea987450f49a"
      },
      "source": [
        "!cat /content/results/multi_proc/fn/ReverseGA_results.csv"
      ],
      "execution_count": 22,
      "outputs": [
        {
          "output_type": "stream",
          "name": "stdout",
          "text": [
            "MRun_no,Cost,Run_Time,Solution,Nfe,Seed\n",
            "0,-21,0.24437172412872316,[0, 0, 0, 0, 0, 0, 0, 0, 0, 0, 0, 0],1000,10\n",
            "1,-21,0.24437172412872316,[0, 0, 0, 0, 0, 0, 0, 0, 0, 0, 0, 0],1000,24\n",
            "2,-21,0.24437172412872316,[0, 0, 0, 0, 0, 0, 0, 0, 0, 0, 0, 0],1000,32\n",
            "3,-21,0.24437172412872316,[0, 0, 0, 0, 0, 0, 0, 0, 0, 0, 0, 0],1000,100\n",
            "4,-21,0.24437172412872316,[0, 0, 0, 0, 0, 0, 0, 0, 0, 0, 0, 0],1000,20\n",
            "5,-21,0.24437172412872316,[0, 0, 0, 0, 0, 0, 0, 0, 0, 0, 0, 0],1000,67\n",
            "6,-21,0.24437172412872316,[0, 0, 0, 0, 0, 0, 0, 0, 0, 0, 0, 0],1000,13\n",
            "7,-21,0.24437172412872316,[0, 0, 0, 0, 0, 0, 0, 0, 0, 0, 0, 0],1000,19\n",
            "8,-21,0.24437172412872316,[0, 0, 0, 0, 0, 0, 0, 0, 0, 0, 0, 0],1000,65\n",
            "9,-21,0.24437172412872316,[0, 0, 0, 0, 0, 0, 0, 0, 0, 0, 0, 0],1000,51\n"
          ]
        }
      ]
    },
    {
      "cell_type": "code",
      "metadata": {
        "id": "SHNJYrfb7dK8"
      },
      "source": [
        ""
      ],
      "execution_count": null,
      "outputs": []
    }
  ]
}